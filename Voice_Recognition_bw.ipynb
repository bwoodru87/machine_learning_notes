{
 "cells": [
  {
   "cell_type": "code",
   "execution_count": 1,
   "metadata": {},
   "outputs": [],
   "source": [
    "# Set the seed value for the notebook so the results are reproducible\n",
    "from numpy.random import seed\n",
    "seed(1)"
   ]
  },
  {
   "cell_type": "code",
   "execution_count": 2,
   "metadata": {
    "slideshow": {
     "slide_type": "subslide"
    }
   },
   "outputs": [],
   "source": [
    "# Dependencies\n",
    "import numpy as np\n",
    "import pandas as pd"
   ]
  },
  {
   "cell_type": "code",
   "execution_count": 3,
   "metadata": {},
   "outputs": [
    {
     "data": {
      "text/plain": [
       "'2.2.4-tf'"
      ]
     },
     "execution_count": 3,
     "metadata": {},
     "output_type": "execute_result"
    }
   ],
   "source": [
    "import tensorflow\n",
    "tensorflow.keras.__version__"
   ]
  },
  {
   "cell_type": "markdown",
   "metadata": {},
   "source": [
    "# Voice Gender\n",
    "Gender Recognition by Voice and Speech Analysis\n",
    "\n",
    "This database was created to identify a voice as male or female, based upon acoustic properties of the voice and speech. The dataset consists of 3,168 recorded voice samples, collected from male and female speakers. The voice samples are pre-processed by acoustic analysis in R using the seewave and tuneR packages, with an analyzed frequency range of 0hz-280hz (human vocal range).\n",
    "\n",
    "## The Dataset\n",
    "The following acoustic properties of each voice are measured and included within the CSV:\n",
    "\n",
    "* meanfreq: mean frequency (in kHz)\n",
    "* sd: standard deviation of frequency\n",
    "* median: median frequency (in kHz)\n",
    "* Q25: first quantile (in kHz)\n",
    "* Q75: third quantile (in kHz)\n",
    "* IQR: interquantile range (in kHz)\n",
    "* skew: skewness (see note in specprop description)\n",
    "* kurt: kurtosis (see note in specprop description)\n",
    "* sp.ent: spectral entropy\n",
    "* sfm: spectral flatness\n",
    "* mode: mode frequency\n",
    "* centroid: frequency centroid (see specprop)\n",
    "* peakf: peak frequency (frequency with highest energy)\n",
    "* meanfun: average of fundamental frequency measured across acoustic signal\n",
    "* minfun: minimum fundamental frequency measured across acoustic signal\n",
    "* maxfun: maximum fundamental frequency measured across acoustic signal\n",
    "* meandom: average of dominant frequency measured across acoustic signal\n",
    "* mindom: minimum of dominant frequency measured across acoustic signal\n",
    "* maxdom: maximum of dominant frequency measured across acoustic signal\n",
    "* dfrange: range of dominant frequency measured across acoustic signal\n",
    "* modindx: modulation index. Calculated as the accumulated absolute difference between adjacent measurements of fundamental frequencies divided by the frequency range\n",
    "* label: male or female"
   ]
  },
  {
   "cell_type": "code",
   "execution_count": 4,
   "metadata": {
    "slideshow": {
     "slide_type": "fragment"
    }
   },
   "outputs": [
    {
     "data": {
      "text/html": [
       "<div>\n",
       "<style scoped>\n",
       "    .dataframe tbody tr th:only-of-type {\n",
       "        vertical-align: middle;\n",
       "    }\n",
       "\n",
       "    .dataframe tbody tr th {\n",
       "        vertical-align: top;\n",
       "    }\n",
       "\n",
       "    .dataframe thead th {\n",
       "        text-align: right;\n",
       "    }\n",
       "</style>\n",
       "<table border=\"1\" class=\"dataframe\">\n",
       "  <thead>\n",
       "    <tr style=\"text-align: right;\">\n",
       "      <th></th>\n",
       "      <th>meanfreq</th>\n",
       "      <th>sd</th>\n",
       "      <th>median</th>\n",
       "      <th>Q25</th>\n",
       "      <th>Q75</th>\n",
       "      <th>IQR</th>\n",
       "      <th>skew</th>\n",
       "      <th>kurt</th>\n",
       "      <th>sp.ent</th>\n",
       "      <th>sfm</th>\n",
       "      <th>...</th>\n",
       "      <th>centroid</th>\n",
       "      <th>meanfun</th>\n",
       "      <th>minfun</th>\n",
       "      <th>maxfun</th>\n",
       "      <th>meandom</th>\n",
       "      <th>mindom</th>\n",
       "      <th>maxdom</th>\n",
       "      <th>dfrange</th>\n",
       "      <th>modindx</th>\n",
       "      <th>label</th>\n",
       "    </tr>\n",
       "  </thead>\n",
       "  <tbody>\n",
       "    <tr>\n",
       "      <th>0</th>\n",
       "      <td>0.059781</td>\n",
       "      <td>0.064241</td>\n",
       "      <td>0.032027</td>\n",
       "      <td>0.015071</td>\n",
       "      <td>0.090193</td>\n",
       "      <td>0.075122</td>\n",
       "      <td>12.863462</td>\n",
       "      <td>274.402906</td>\n",
       "      <td>0.893369</td>\n",
       "      <td>0.491918</td>\n",
       "      <td>...</td>\n",
       "      <td>0.059781</td>\n",
       "      <td>0.084279</td>\n",
       "      <td>0.015702</td>\n",
       "      <td>0.275862</td>\n",
       "      <td>0.007812</td>\n",
       "      <td>0.007812</td>\n",
       "      <td>0.007812</td>\n",
       "      <td>0.000000</td>\n",
       "      <td>0.000000</td>\n",
       "      <td>male</td>\n",
       "    </tr>\n",
       "    <tr>\n",
       "      <th>1</th>\n",
       "      <td>0.066009</td>\n",
       "      <td>0.067310</td>\n",
       "      <td>0.040229</td>\n",
       "      <td>0.019414</td>\n",
       "      <td>0.092666</td>\n",
       "      <td>0.073252</td>\n",
       "      <td>22.423285</td>\n",
       "      <td>634.613855</td>\n",
       "      <td>0.892193</td>\n",
       "      <td>0.513724</td>\n",
       "      <td>...</td>\n",
       "      <td>0.066009</td>\n",
       "      <td>0.107937</td>\n",
       "      <td>0.015826</td>\n",
       "      <td>0.250000</td>\n",
       "      <td>0.009014</td>\n",
       "      <td>0.007812</td>\n",
       "      <td>0.054688</td>\n",
       "      <td>0.046875</td>\n",
       "      <td>0.052632</td>\n",
       "      <td>male</td>\n",
       "    </tr>\n",
       "    <tr>\n",
       "      <th>2</th>\n",
       "      <td>0.077316</td>\n",
       "      <td>0.083829</td>\n",
       "      <td>0.036718</td>\n",
       "      <td>0.008701</td>\n",
       "      <td>0.131908</td>\n",
       "      <td>0.123207</td>\n",
       "      <td>30.757155</td>\n",
       "      <td>1024.927705</td>\n",
       "      <td>0.846389</td>\n",
       "      <td>0.478905</td>\n",
       "      <td>...</td>\n",
       "      <td>0.077316</td>\n",
       "      <td>0.098706</td>\n",
       "      <td>0.015656</td>\n",
       "      <td>0.271186</td>\n",
       "      <td>0.007990</td>\n",
       "      <td>0.007812</td>\n",
       "      <td>0.015625</td>\n",
       "      <td>0.007812</td>\n",
       "      <td>0.046512</td>\n",
       "      <td>male</td>\n",
       "    </tr>\n",
       "    <tr>\n",
       "      <th>3</th>\n",
       "      <td>0.151228</td>\n",
       "      <td>0.072111</td>\n",
       "      <td>0.158011</td>\n",
       "      <td>0.096582</td>\n",
       "      <td>0.207955</td>\n",
       "      <td>0.111374</td>\n",
       "      <td>1.232831</td>\n",
       "      <td>4.177296</td>\n",
       "      <td>0.963322</td>\n",
       "      <td>0.727232</td>\n",
       "      <td>...</td>\n",
       "      <td>0.151228</td>\n",
       "      <td>0.088965</td>\n",
       "      <td>0.017798</td>\n",
       "      <td>0.250000</td>\n",
       "      <td>0.201497</td>\n",
       "      <td>0.007812</td>\n",
       "      <td>0.562500</td>\n",
       "      <td>0.554688</td>\n",
       "      <td>0.247119</td>\n",
       "      <td>male</td>\n",
       "    </tr>\n",
       "    <tr>\n",
       "      <th>4</th>\n",
       "      <td>0.135120</td>\n",
       "      <td>0.079146</td>\n",
       "      <td>0.124656</td>\n",
       "      <td>0.078720</td>\n",
       "      <td>0.206045</td>\n",
       "      <td>0.127325</td>\n",
       "      <td>1.101174</td>\n",
       "      <td>4.333713</td>\n",
       "      <td>0.971955</td>\n",
       "      <td>0.783568</td>\n",
       "      <td>...</td>\n",
       "      <td>0.135120</td>\n",
       "      <td>0.106398</td>\n",
       "      <td>0.016931</td>\n",
       "      <td>0.266667</td>\n",
       "      <td>0.712812</td>\n",
       "      <td>0.007812</td>\n",
       "      <td>5.484375</td>\n",
       "      <td>5.476562</td>\n",
       "      <td>0.208274</td>\n",
       "      <td>male</td>\n",
       "    </tr>\n",
       "  </tbody>\n",
       "</table>\n",
       "<p>5 rows × 21 columns</p>\n",
       "</div>"
      ],
      "text/plain": [
       "   meanfreq        sd    median       Q25       Q75       IQR       skew  \\\n",
       "0  0.059781  0.064241  0.032027  0.015071  0.090193  0.075122  12.863462   \n",
       "1  0.066009  0.067310  0.040229  0.019414  0.092666  0.073252  22.423285   \n",
       "2  0.077316  0.083829  0.036718  0.008701  0.131908  0.123207  30.757155   \n",
       "3  0.151228  0.072111  0.158011  0.096582  0.207955  0.111374   1.232831   \n",
       "4  0.135120  0.079146  0.124656  0.078720  0.206045  0.127325   1.101174   \n",
       "\n",
       "          kurt    sp.ent       sfm  ...    centroid   meanfun    minfun  \\\n",
       "0   274.402906  0.893369  0.491918  ...    0.059781  0.084279  0.015702   \n",
       "1   634.613855  0.892193  0.513724  ...    0.066009  0.107937  0.015826   \n",
       "2  1024.927705  0.846389  0.478905  ...    0.077316  0.098706  0.015656   \n",
       "3     4.177296  0.963322  0.727232  ...    0.151228  0.088965  0.017798   \n",
       "4     4.333713  0.971955  0.783568  ...    0.135120  0.106398  0.016931   \n",
       "\n",
       "     maxfun   meandom    mindom    maxdom   dfrange   modindx  label  \n",
       "0  0.275862  0.007812  0.007812  0.007812  0.000000  0.000000   male  \n",
       "1  0.250000  0.009014  0.007812  0.054688  0.046875  0.052632   male  \n",
       "2  0.271186  0.007990  0.007812  0.015625  0.007812  0.046512   male  \n",
       "3  0.250000  0.201497  0.007812  0.562500  0.554688  0.247119   male  \n",
       "4  0.266667  0.712812  0.007812  5.484375  5.476562  0.208274   male  \n",
       "\n",
       "[5 rows x 21 columns]"
      ]
     },
     "execution_count": 4,
     "metadata": {},
     "output_type": "execute_result"
    }
   ],
   "source": [
    "voice = pd.read_csv('../Resources/voice.csv')\n",
    "voice.head()"
   ]
  },
  {
   "cell_type": "markdown",
   "metadata": {
    "slideshow": {
     "slide_type": "subslide"
    }
   },
   "source": [
    "## Data Pre-Processing"
   ]
  },
  {
   "cell_type": "code",
   "execution_count": 5,
   "metadata": {
    "nbgrader": {
     "grade": false,
     "grade_id": "cell-86a9e3212f200d21",
     "locked": false,
     "schema_version": 1,
     "solution": true
    },
    "slideshow": {
     "slide_type": "subslide"
    }
   },
   "outputs": [
    {
     "name": "stdout",
     "output_type": "stream",
     "text": [
      "(3168, 20) (3168,)\n"
     ]
    }
   ],
   "source": [
    "X = voice.drop(\"label\", axis=1)\n",
    "y = voice[\"label\"]\n",
    "print(X.shape, y.shape)"
   ]
  },
  {
   "cell_type": "code",
   "execution_count": 6,
   "metadata": {
    "nbgrader": {
     "grade": false,
     "grade_id": "cell-711a82d9b32c83ff",
     "locked": false,
     "schema_version": 1,
     "solution": true
    },
    "slideshow": {
     "slide_type": "fragment"
    }
   },
   "outputs": [],
   "source": [
    "from sklearn.model_selection import train_test_split\n",
    "from sklearn.preprocessing import LabelEncoder, MinMaxScaler\n",
    "from tensorflow.keras.utils import to_categorical\n",
    "\n",
    "X_train, X_test, y_train, y_test = train_test_split(X, y, random_state=1, stratify=y)\n",
    "X_scaler = MinMaxScaler().fit(X_train)\n",
    "X_train_scaled = X_scaler.transform(X_train)\n",
    "X_test_scaled = X_scaler.transform(X_test)\n",
    "\n",
    "\n",
    "# Step 1: Label-encode data set\n",
    "label_encoder = LabelEncoder()\n",
    "label_encoder.fit(y_train)\n",
    "encoded_y_train = label_encoder.transform(y_train)\n",
    "encoded_y_test = label_encoder.transform(y_test)\n",
    "\n",
    "# Step 2: Convert encoded labels to one-hot-encoding\n",
    "y_train_categorical = to_categorical(encoded_y_train)\n",
    "y_test_categorical = to_categorical(encoded_y_test)"
   ]
  },
  {
   "cell_type": "markdown",
   "metadata": {},
   "source": [
    "# Create a Deep Learning Model"
   ]
  },
  {
   "cell_type": "code",
   "execution_count": 7,
   "metadata": {},
   "outputs": [
    {
     "name": "stdout",
     "output_type": "stream",
     "text": [
      "WARNING:tensorflow:From /anaconda3/lib/python3.7/site-packages/tensorflow/python/ops/resource_variable_ops.py:435: colocate_with (from tensorflow.python.framework.ops) is deprecated and will be removed in a future version.\n",
      "Instructions for updating:\n",
      "Colocations handled automatically by placer.\n",
      "_________________________________________________________________\n",
      "Layer (type)                 Output Shape              Param #   \n",
      "=================================================================\n",
      "dense (Dense)                (None, 6)                 126       \n",
      "_________________________________________________________________\n",
      "dense_1 (Dense)              (None, 6)                 42        \n",
      "_________________________________________________________________\n",
      "dense_2 (Dense)              (None, 2)                 14        \n",
      "=================================================================\n",
      "Total params: 182\n",
      "Trainable params: 182\n",
      "Non-trainable params: 0\n",
      "_________________________________________________________________\n"
     ]
    }
   ],
   "source": [
    "from tensorflow.keras.models import Sequential\n",
    "from tensorflow.keras.layers import Dense\n",
    "\n",
    "# Create a Neural Network model here\n",
    "deep_model = Sequential()\n",
    "deep_model.add(Dense(units=6, activation='relu', input_dim=20))\n",
    "deep_model.add(Dense(units=6, activation='relu'))\n",
    "deep_model.add(Dense(units=2, activation='softmax'))\n",
    "\n",
    "deep_model.summary()"
   ]
  },
  {
   "cell_type": "code",
   "execution_count": 8,
   "metadata": {},
   "outputs": [],
   "source": [
    "# Compile and fit the model\n",
    "deep_model.compile(optimizer='adam',\n",
    "              loss='categorical_crossentropy',\n",
    "              metrics=['accuracy'])"
   ]
  },
  {
   "cell_type": "code",
   "execution_count": 9,
   "metadata": {},
   "outputs": [
    {
     "name": "stdout",
     "output_type": "stream",
     "text": [
      "WARNING:tensorflow:From /anaconda3/lib/python3.7/site-packages/tensorflow/python/ops/math_ops.py:3066: to_int32 (from tensorflow.python.ops.math_ops) is deprecated and will be removed in a future version.\n",
      "Instructions for updating:\n",
      "Use tf.cast instead.\n",
      "Epoch 1/100\n",
      " - 0s - loss: 0.6873 - acc: 0.5425\n",
      "Epoch 2/100\n",
      " - 0s - loss: 0.6524 - acc: 0.7357\n",
      "Epoch 3/100\n",
      " - 0s - loss: 0.6006 - acc: 0.7955\n",
      "Epoch 4/100\n",
      " - 0s - loss: 0.5448 - acc: 0.8119\n",
      "Epoch 5/100\n",
      " - 0s - loss: 0.4859 - acc: 0.8338\n",
      "Epoch 6/100\n",
      " - 0s - loss: 0.4233 - acc: 0.8657\n",
      "Epoch 7/100\n",
      " - 0s - loss: 0.3641 - acc: 0.8885\n",
      "Epoch 8/100\n",
      " - 0s - loss: 0.3120 - acc: 0.8990\n",
      "Epoch 9/100\n",
      " - 0s - loss: 0.2658 - acc: 0.9112\n",
      "Epoch 10/100\n",
      " - 0s - loss: 0.2291 - acc: 0.9289\n",
      "Epoch 11/100\n",
      " - 0s - loss: 0.2035 - acc: 0.9339\n",
      "Epoch 12/100\n",
      " - 0s - loss: 0.1795 - acc: 0.9461\n",
      "Epoch 13/100\n",
      " - 0s - loss: 0.1657 - acc: 0.9495\n",
      "Epoch 14/100\n",
      " - 0s - loss: 0.1509 - acc: 0.9520\n",
      "Epoch 15/100\n",
      " - 0s - loss: 0.1446 - acc: 0.9554\n",
      "Epoch 16/100\n",
      " - 0s - loss: 0.1359 - acc: 0.9596\n",
      "Epoch 17/100\n",
      " - 0s - loss: 0.1290 - acc: 0.9579\n",
      "Epoch 18/100\n",
      " - 0s - loss: 0.1266 - acc: 0.9617\n",
      "Epoch 19/100\n",
      " - 0s - loss: 0.1203 - acc: 0.9659\n",
      "Epoch 20/100\n",
      " - 0s - loss: 0.1166 - acc: 0.9646\n",
      "Epoch 21/100\n",
      " - 0s - loss: 0.1153 - acc: 0.9646\n",
      "Epoch 22/100\n",
      " - 0s - loss: 0.1134 - acc: 0.9646\n",
      "Epoch 23/100\n",
      " - 0s - loss: 0.1107 - acc: 0.9672\n",
      "Epoch 24/100\n",
      " - 0s - loss: 0.1099 - acc: 0.9676\n",
      "Epoch 25/100\n",
      " - 0s - loss: 0.1078 - acc: 0.9672\n",
      "Epoch 26/100\n",
      " - 0s - loss: 0.1056 - acc: 0.9668\n",
      "Epoch 27/100\n",
      " - 0s - loss: 0.1038 - acc: 0.9676\n",
      "Epoch 28/100\n",
      " - 0s - loss: 0.1032 - acc: 0.9668\n",
      "Epoch 29/100\n",
      " - 0s - loss: 0.1013 - acc: 0.9705\n",
      "Epoch 30/100\n",
      " - 0s - loss: 0.1019 - acc: 0.9684\n",
      "Epoch 31/100\n",
      " - 0s - loss: 0.1029 - acc: 0.9705\n",
      "Epoch 32/100\n",
      " - 0s - loss: 0.0982 - acc: 0.9705\n",
      "Epoch 33/100\n",
      " - 0s - loss: 0.0980 - acc: 0.9693\n",
      "Epoch 34/100\n",
      " - 0s - loss: 0.0975 - acc: 0.9680\n",
      "Epoch 35/100\n",
      " - 0s - loss: 0.0982 - acc: 0.9693\n",
      "Epoch 36/100\n",
      " - 0s - loss: 0.0961 - acc: 0.9705\n",
      "Epoch 37/100\n",
      " - 0s - loss: 0.0960 - acc: 0.9697\n",
      "Epoch 38/100\n",
      " - 0s - loss: 0.0956 - acc: 0.9697\n",
      "Epoch 39/100\n",
      " - 0s - loss: 0.0960 - acc: 0.9705\n",
      "Epoch 40/100\n",
      " - 0s - loss: 0.0958 - acc: 0.9710\n",
      "Epoch 41/100\n",
      " - 0s - loss: 0.0935 - acc: 0.9710\n",
      "Epoch 42/100\n",
      " - 0s - loss: 0.0938 - acc: 0.9705\n",
      "Epoch 43/100\n",
      " - 0s - loss: 0.0966 - acc: 0.9701\n",
      "Epoch 44/100\n",
      " - 0s - loss: 0.0943 - acc: 0.9693\n",
      "Epoch 45/100\n",
      " - 0s - loss: 0.0919 - acc: 0.9710\n",
      "Epoch 46/100\n",
      " - 0s - loss: 0.0943 - acc: 0.9722\n",
      "Epoch 47/100\n",
      " - 0s - loss: 0.0918 - acc: 0.9714\n",
      "Epoch 48/100\n",
      " - 0s - loss: 0.0929 - acc: 0.9718\n",
      "Epoch 49/100\n",
      " - 0s - loss: 0.0917 - acc: 0.9714\n",
      "Epoch 50/100\n",
      " - 0s - loss: 0.0916 - acc: 0.9731\n",
      "Epoch 51/100\n",
      " - 0s - loss: 0.0919 - acc: 0.9710\n",
      "Epoch 52/100\n",
      " - 0s - loss: 0.0906 - acc: 0.9705\n",
      "Epoch 53/100\n",
      " - 0s - loss: 0.0911 - acc: 0.9726\n",
      "Epoch 54/100\n",
      " - 0s - loss: 0.0915 - acc: 0.9714\n",
      "Epoch 55/100\n",
      " - 0s - loss: 0.0903 - acc: 0.9739\n",
      "Epoch 56/100\n",
      " - 0s - loss: 0.0912 - acc: 0.9718\n",
      "Epoch 57/100\n",
      " - 0s - loss: 0.0901 - acc: 0.9714\n",
      "Epoch 58/100\n",
      " - 0s - loss: 0.0889 - acc: 0.9714\n",
      "Epoch 59/100\n",
      " - 0s - loss: 0.0894 - acc: 0.9739\n",
      "Epoch 60/100\n",
      " - 0s - loss: 0.0901 - acc: 0.9701\n",
      "Epoch 61/100\n",
      " - 0s - loss: 0.0917 - acc: 0.9714\n",
      "Epoch 62/100\n",
      " - 0s - loss: 0.0887 - acc: 0.9743\n",
      "Epoch 63/100\n",
      " - 0s - loss: 0.0881 - acc: 0.9731\n",
      "Epoch 64/100\n",
      " - 0s - loss: 0.0889 - acc: 0.9747\n",
      "Epoch 65/100\n",
      " - 0s - loss: 0.0882 - acc: 0.9739\n",
      "Epoch 66/100\n",
      " - 0s - loss: 0.0879 - acc: 0.9735\n",
      "Epoch 67/100\n",
      " - 0s - loss: 0.0870 - acc: 0.9735\n",
      "Epoch 68/100\n",
      " - 0s - loss: 0.0868 - acc: 0.9726\n",
      "Epoch 69/100\n",
      " - 0s - loss: 0.0875 - acc: 0.9743\n",
      "Epoch 70/100\n",
      " - 0s - loss: 0.0868 - acc: 0.9735\n",
      "Epoch 71/100\n",
      " - 0s - loss: 0.0879 - acc: 0.9731\n",
      "Epoch 72/100\n",
      " - 0s - loss: 0.0870 - acc: 0.9739\n",
      "Epoch 73/100\n",
      " - 0s - loss: 0.0867 - acc: 0.9747\n",
      "Epoch 74/100\n",
      " - 0s - loss: 0.0867 - acc: 0.9722\n",
      "Epoch 75/100\n",
      " - 0s - loss: 0.0854 - acc: 0.9743\n",
      "Epoch 76/100\n",
      " - 0s - loss: 0.0862 - acc: 0.9747\n",
      "Epoch 77/100\n",
      " - 0s - loss: 0.0851 - acc: 0.9752\n",
      "Epoch 78/100\n",
      " - 0s - loss: 0.0865 - acc: 0.9739\n",
      "Epoch 79/100\n",
      " - 0s - loss: 0.0859 - acc: 0.9739\n",
      "Epoch 80/100\n",
      " - 0s - loss: 0.0851 - acc: 0.9743\n",
      "Epoch 81/100\n",
      " - 0s - loss: 0.0887 - acc: 0.9722\n",
      "Epoch 82/100\n",
      " - 0s - loss: 0.0849 - acc: 0.9747\n",
      "Epoch 83/100\n",
      " - 0s - loss: 0.0882 - acc: 0.9714\n",
      "Epoch 84/100\n",
      " - 0s - loss: 0.0850 - acc: 0.9747\n",
      "Epoch 85/100\n",
      " - 0s - loss: 0.0853 - acc: 0.9752\n",
      "Epoch 86/100\n",
      " - 0s - loss: 0.0849 - acc: 0.9769\n",
      "Epoch 87/100\n",
      " - 0s - loss: 0.0855 - acc: 0.9731\n",
      "Epoch 88/100\n",
      " - 0s - loss: 0.0856 - acc: 0.9739\n",
      "Epoch 89/100\n",
      " - 0s - loss: 0.0848 - acc: 0.9752\n",
      "Epoch 90/100\n",
      " - 0s - loss: 0.0854 - acc: 0.9722\n",
      "Epoch 91/100\n",
      " - 0s - loss: 0.0838 - acc: 0.9739\n",
      "Epoch 92/100\n",
      " - 0s - loss: 0.0854 - acc: 0.9739\n",
      "Epoch 93/100\n",
      " - 0s - loss: 0.0858 - acc: 0.9735\n",
      "Epoch 94/100\n",
      " - 0s - loss: 0.0878 - acc: 0.9747\n",
      "Epoch 95/100\n",
      " - 0s - loss: 0.0841 - acc: 0.9769\n",
      "Epoch 96/100\n",
      " - 0s - loss: 0.0841 - acc: 0.9747\n",
      "Epoch 97/100\n",
      " - 0s - loss: 0.0836 - acc: 0.9731\n",
      "Epoch 98/100\n",
      " - 0s - loss: 0.0854 - acc: 0.9726\n",
      "Epoch 99/100\n",
      " - 0s - loss: 0.0856 - acc: 0.9747\n",
      "Epoch 100/100\n",
      " - 0s - loss: 0.0833 - acc: 0.9756\n"
     ]
    },
    {
     "data": {
      "text/plain": [
       "<tensorflow.python.keras.callbacks.History at 0x1a33797c18>"
      ]
     },
     "execution_count": 9,
     "metadata": {},
     "output_type": "execute_result"
    }
   ],
   "source": [
    "deep_model.fit(\n",
    "    X_train_scaled,\n",
    "    y_train_categorical,\n",
    "    epochs=100,\n",
    "    shuffle=True,\n",
    "    verbose=2\n",
    ")"
   ]
  },
  {
   "cell_type": "markdown",
   "metadata": {},
   "source": [
    "## Quantify our Trained Model"
   ]
  },
  {
   "cell_type": "code",
   "execution_count": 10,
   "metadata": {},
   "outputs": [
    {
     "name": "stdout",
     "output_type": "stream",
     "text": [
      " - 0s - loss: 0.0597 - acc: 0.9773\n",
      "Normal Neural Network - Loss: 0.05974066665753572, Accuracy: 0.9772727489471436\n"
     ]
    }
   ],
   "source": [
    "model_loss, model_accuracy = deep_model.evaluate(X_test_scaled, y_test_categorical, verbose=2)\n",
    "print(f\"Normal Neural Network - Loss: {model_loss}, Accuracy: {model_accuracy}\")"
   ]
  },
  {
   "cell_type": "markdown",
   "metadata": {
    "slideshow": {
     "slide_type": "subslide"
    }
   },
   "source": [
    "## Make Predictions"
   ]
  },
  {
   "cell_type": "code",
   "execution_count": 12,
   "metadata": {
    "nbgrader": {
     "grade": false,
     "grade_id": "cell-f97eb3e97245187b",
     "locked": false,
     "schema_version": 1,
     "solution": true
    },
    "slideshow": {
     "slide_type": "fragment"
    }
   },
   "outputs": [
    {
     "name": "stdout",
     "output_type": "stream",
     "text": [
      "['female' 'female' 'male' 'female' 'male']\n"
     ]
    }
   ],
   "source": [
    "# Use the first 5 test data values to make a prediction and compare it to the actual labels\n",
    "encoded_predictions = deep_model.predict_classes(X_test_scaled[:5])\n",
    "prediction_labels = label_encoder.inverse_transform(encoded_predictions)\n",
    "print(f\"{prediction_labels}\")"
   ]
  },
  {
   "cell_type": "code",
   "execution_count": null,
   "metadata": {},
   "outputs": [],
   "source": []
  }
 ],
 "metadata": {
  "kernelspec": {
   "display_name": "Python 3",
   "language": "python",
   "name": "python3"
  },
  "language_info": {
   "codemirror_mode": {
    "name": "ipython",
    "version": 3
   },
   "file_extension": ".py",
   "mimetype": "text/x-python",
   "name": "python",
   "nbconvert_exporter": "python",
   "pygments_lexer": "ipython3",
   "version": "3.7.2"
  },
  "varInspector": {
   "cols": {
    "lenName": 16,
    "lenType": 16,
    "lenVar": 40
   },
   "kernels_config": {
    "python": {
     "delete_cmd_postfix": "",
     "delete_cmd_prefix": "del ",
     "library": "var_list.py",
     "varRefreshCmd": "print(var_dic_list())"
    },
    "r": {
     "delete_cmd_postfix": ") ",
     "delete_cmd_prefix": "rm(",
     "library": "var_list.r",
     "varRefreshCmd": "cat(var_dic_list()) "
    }
   },
   "types_to_exclude": [
    "module",
    "function",
    "builtin_function_or_method",
    "instance",
    "_Feature"
   ],
   "window_display": false
  }
 },
 "nbformat": 4,
 "nbformat_minor": 2
}
